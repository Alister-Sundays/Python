{
 "cells": [
  {
   "cell_type": "code",
   "execution_count": 20,
   "id": "e9d6a6d6",
   "metadata": {},
   "outputs": [],
   "source": [
    "import math"
   ]
  },
  {
   "cell_type": "markdown",
   "id": "91df0e87",
   "metadata": {},
   "source": [
    "In the House Prices, you need to use information like the number of bedrooms and bathrooms to predict the price of a house. Inspired by this competition, you'll write your own function to do this.\n",
    "\n",
    "In the next code cell, create a function get_expected_cost() that has two arguments:\n",
    "\n",
    "-beds - number of bedrooms\n",
    "-baths - number of bathrooms\n",
    "It should return the expected cost of a house with that number of bedrooms and bathrooms. Assume that:\n",
    "\n",
    "the expected cost for a house with 0 bedrooms and 0 bathrooms is 80000.\n",
    "-each bedroom adds 30000 to the expected cost\n",
    "-each bathroom adds 10000 to the expected cost.\n",
    "For instance,\n",
    "\n",
    "-a house with 1 bedroom and 1 bathroom has an expected cost of 120000, and\n",
    "-a house with 2 bedrooms and 1 bathroom has an expected cost of 150000."
   ]
  },
  {
   "cell_type": "code",
   "execution_count": 1,
   "id": "1182cd1b",
   "metadata": {},
   "outputs": [],
   "source": [
    "#Complete the function\n",
    "def get_expected_cost(beds, baths):\n",
    "    value = 80000+beds*30000+baths*10000\n",
    "    return value"
   ]
  },
  {
   "cell_type": "code",
   "execution_count": 9,
   "id": "029732c5",
   "metadata": {
    "scrolled": true
   },
   "outputs": [
    {
     "name": "stdout",
     "output_type": "stream",
     "text": [
      "The cost of the House is 170000\n"
     ]
    }
   ],
   "source": [
    "#Call the function\n",
    "value = get_expected_cost(2,3)\n",
    "print('The cost of the House is',value)"
   ]
  },
  {
   "cell_type": "markdown",
   "id": "feddbc27",
   "metadata": {},
   "source": [
    "You are thinking about buying a home and want to get an idea of how much you will spend, based on the number of bedrooms and bathrooms. You are trying to decide between four different options:\n",
    "\n",
    "Option 1: house with two bedrooms and three bathrooms\n",
    "Option 2: house with three bedrooms and two bathrooms\n",
    "Option 3: house with three bedrooms and three bathrooms\n",
    "Option 4: house with three bedrooms and four bathrooms\n",
    "Use the get_expected_cost() function you defined in question 1 to set option_1, option_2, option_3, and option_4 to the expected cost of each option."
   ]
  },
  {
   "cell_type": "code",
   "execution_count": 11,
   "id": "2077e332",
   "metadata": {},
   "outputs": [
    {
     "name": "stdout",
     "output_type": "stream",
     "text": [
      "170000\n",
      "190000\n",
      "200000\n",
      "210000\n"
     ]
    }
   ],
   "source": [
    "Option1 = get_expected_cost(2,3)\n",
    "Option2 = get_expected_cost(3,2)\n",
    "Option3 = get_expected_cost(3,3)\n",
    "Option4 = get_expected_cost(3,4)\n",
    "print(Option1)\n",
    "print(Option2)\n",
    "print(Option3)\n",
    "print(Option4)"
   ]
  },
  {
   "cell_type": "markdown",
   "id": "1a0a8df1",
   "metadata": {},
   "source": [
    "You're a home decorator, and you'd like to use Python to streamline some of your work. Specifically, you're creating a tool that you intend to use to calculate the cost of painting a room.\n",
    "\n",
    "As a first step, define a function get_cost() that takes as input:\n",
    "\n",
    "sqft_walls = total square feet of walls to be painted\n",
    "sqft_ceiling = square feet of ceiling to be painted\n",
    "sqft_per_gallon = number of square feet that you can cover with one gallon of paint\n",
    "cost_per_gallon = cost (in dollars) of one gallon of paint\n",
    "It should return the cost (in dollars) of putting one coat of paint on all walls and the ceiling. Assume you can buy the exact amount of paint that you need, so you can buy partial gallons (e.g., if you need 7.523 gallons, you can buy that exact amount, instead of needing to buy 8 gallons and waste some paint). Do not round your answer."
   ]
  },
  {
   "cell_type": "code",
   "execution_count": 17,
   "id": "d221804a",
   "metadata": {},
   "outputs": [],
   "source": [
    "#Create the function\n",
    "def get_cost(Walls,Ceiling,Gallon,Cost):\n",
    "    Total_sqft = Walls + Ceiling\n",
    "    Total_Gallons = Total_sqft/Gallon\n",
    "    cost = Cost*Total_Gallons\n",
    "    return cost"
   ]
  },
  {
   "cell_type": "code",
   "execution_count": 23,
   "id": "e760d48f",
   "metadata": {
    "scrolled": false
   },
   "outputs": [
    {
     "name": "stdout",
     "output_type": "stream",
     "text": [
      "30\n",
      "21.599999999999998\n"
     ]
    }
   ],
   "source": [
    "#Call the function\n",
    "project_cost = get_actual_cost(432,144,400,15)\n",
    "project_cost1 = get_cost(432,144,400,15)\n",
    "print(project_cost)\n",
    "print(project_cost1)"
   ]
  },
  {
   "cell_type": "markdown",
   "id": "ffa54be5",
   "metadata": {},
   "source": [
    "Now say you can no longer buy fractions of a gallon. (For instance, if you need 4.3 gallons to do a project, then you have to buy 5 gallons of paint.)\n",
    "\n",
    "With this new scenario, you will create a new function get_actual_cost that uses the same inputs and calculates the cost of your project.\n",
    "\n",
    "One function that you'll need to use to do this is math.ceil(). We demonstrate usage of this function in the code cell below. It takes as a number as input and rounds the number up to the nearest integer.\n",
    "\n",
    "Run the next code cell to test this function for yourself. Feel free to change the value of test_value and make sure math.ceil() returns the number you expect."
   ]
  },
  {
   "cell_type": "code",
   "execution_count": 21,
   "id": "f7557c51",
   "metadata": {},
   "outputs": [],
   "source": [
    "def get_actual_cost(Walls,Ceiling,Gallon,Cost):\n",
    "    Total_sqft = Walls + Ceiling\n",
    "    Total_Gallons = math.ceil(Total_sqft/Gallon)\n",
    "    cost = Cost*Total_Gallons\n",
    "    return cost"
   ]
  },
  {
   "cell_type": "code",
   "execution_count": null,
   "id": "ae103d9a",
   "metadata": {},
   "outputs": [],
   "source": []
  }
 ],
 "metadata": {
  "kernelspec": {
   "display_name": "Python 3 (ipykernel)",
   "language": "python",
   "name": "python3"
  },
  "language_info": {
   "codemirror_mode": {
    "name": "ipython",
    "version": 3
   },
   "file_extension": ".py",
   "mimetype": "text/x-python",
   "name": "python",
   "nbconvert_exporter": "python",
   "pygments_lexer": "ipython3",
   "version": "3.9.7"
  }
 },
 "nbformat": 4,
 "nbformat_minor": 5
}
